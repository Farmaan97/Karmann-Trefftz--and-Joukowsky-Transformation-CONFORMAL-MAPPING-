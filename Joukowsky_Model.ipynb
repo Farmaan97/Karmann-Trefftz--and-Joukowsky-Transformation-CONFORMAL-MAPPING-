{
 "cells": [
  {
   "cell_type": "code",
   "execution_count": null,
   "id": "e46c68ef-51a5-4280-9b6f-b6fb5f1bd6c1",
   "metadata": {},
   "outputs": [],
   "source": [
    "#updated Joukowsky model\n",
    "from numpy import*\n",
    "from matplotlib.pyplot import*\n",
    "#from sympy import*"
   ]
  },
  {
   "cell_type": "code",
   "execution_count": null,
   "id": "d5c11133-e5f7-48ef-bb12-ec7471e26744",
   "metadata": {},
   "outputs": [],
   "source": [
    "#variable definition\n",
    "\n",
    "r = 5   #radius of the circle (units)\n",
    "\n",
    "#origin point location\n",
    "a = 4 #x coordinate of the origin point (horizontal)\n",
    "b = 1 #y coordinate of the origin point (vertical)\n",
    "\n",
    "#angle points\n",
    "theta = linspace(0,2*pi,500)\n",
    "\n",
    "#print(theta)"
   ]
  },
  {
   "cell_type": "code",
   "execution_count": null,
   "id": "f20ff431-2b91-44a0-a55c-727c7f41925c",
   "metadata": {},
   "outputs": [],
   "source": [
    "x = r*cos(theta) + a\n",
    "y = r*sin(theta) + b\n",
    "\n",
    "#print(x,y)"
   ]
  },
  {
   "cell_type": "code",
   "execution_count": null,
   "id": "dc715421-9363-4fe5-ae54-8a96f32b7a80",
   "metadata": {},
   "outputs": [],
   "source": [
    "#Complex Equation Definition\n",
    "z = x + 1j*y"
   ]
  },
  {
   "cell_type": "code",
   "execution_count": null,
   "id": "ee6a86ae-4e54-4791-95a5-2fd0616b534d",
   "metadata": {},
   "outputs": [],
   "source": [
    "#Complex Function\n",
    "f_z = z + 1/z"
   ]
  },
  {
   "cell_type": "code",
   "execution_count": null,
   "id": "a29155ed-0c9b-4e9f-b709-f87d6702e28c",
   "metadata": {},
   "outputs": [],
   "source": [
    "x1,y1 = real(f_z),imag(f_z)\n",
    "\n",
    "#print(x1,y1)"
   ]
  },
  {
   "cell_type": "code",
   "execution_count": null,
   "id": "d88e96c7-d771-44ba-90b5-4ee90348459a",
   "metadata": {},
   "outputs": [],
   "source": [
    "plot(x,y)\n",
    "axhline(0, c = \"black\")\n",
    "axvline(0, c = \"black\")\n",
    "axhline(b, c = \"green\")\n",
    "axvline(a, c = \"green\")"
   ]
  },
  {
   "cell_type": "code",
   "execution_count": null,
   "id": "b3180b62-471e-451d-869e-b638ba4e8f32",
   "metadata": {},
   "outputs": [],
   "source": [
    "plot(x1,y1)\n",
    "axhline(0, c = \"black\")\n",
    "axvline(0, c = \"black\")\n",
    "axhline(b, c = \"green\")\n",
    "axvline(a, c = \"green\")"
   ]
  },
  {
   "cell_type": "code",
   "execution_count": null,
   "id": "97ce762d-60e7-44e1-8991-f613405228dc",
   "metadata": {},
   "outputs": [],
   "source": []
  }
 ],
 "metadata": {
  "kernelspec": {
   "display_name": "Python 3 (ipykernel)",
   "language": "python",
   "name": "python3"
  },
  "language_info": {
   "codemirror_mode": {
    "name": "ipython",
    "version": 3
   },
   "file_extension": ".py",
   "mimetype": "text/x-python",
   "name": "python",
   "nbconvert_exporter": "python",
   "pygments_lexer": "ipython3",
   "version": "3.13.3"
  }
 },
 "nbformat": 4,
 "nbformat_minor": 5
}
