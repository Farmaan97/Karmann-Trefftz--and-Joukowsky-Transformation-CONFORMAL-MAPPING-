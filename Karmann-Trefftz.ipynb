{
 "cells": [
  {
   "cell_type": "code",
   "execution_count": null,
   "id": "30f7f3f6-c52b-459a-87a4-2120d872a6fc",
   "metadata": {},
   "outputs": [],
   "source": [
    "#karmann Trefftz model\n",
    "from numpy import*\n",
    "from matplotlib.pyplot import*\n",
    "#from sympy import*"
   ]
  },
  {
   "cell_type": "code",
   "execution_count": null,
   "id": "a653cc98-a685-40f5-8022-81775e61cc4f",
   "metadata": {},
   "outputs": [],
   "source": [
    "#variable definition\n",
    "\n",
    "r = 1.5  #radius of the circle (units)\n",
    "delta = 2  #angle of slope\n",
    "\n",
    "n = 2-delta/pi\n",
    "print(n)\n",
    "\n",
    "k = 1.5   #empirical constant\n",
    "\n",
    "#origin point location\n",
    "a = 0.25 #x coordinate of the origin point (horizontal)\n",
    "b = 0.5 #y coordinate of the origin point (vertical)\n",
    "\n",
    "#angle points\n",
    "theta = linspace(0,2*pi,1000)\n",
    "\n",
    "#print(theta)"
   ]
  },
  {
   "cell_type": "code",
   "execution_count": null,
   "id": "1eadb0ce-24a2-4a4b-bba4-938775a253de",
   "metadata": {},
   "outputs": [],
   "source": [
    "x = r*cos(theta) + a\n",
    "y = r*sin(theta) + b\n",
    "\n",
    "#print(x,y)"
   ]
  },
  {
   "cell_type": "code",
   "execution_count": null,
   "id": "833e1db3-9448-4b9d-a513-8277bd875d41",
   "metadata": {},
   "outputs": [],
   "source": [
    "#Complex Equation Definition\n",
    "z = x + 1j*y"
   ]
  },
  {
   "cell_type": "code",
   "execution_count": null,
   "id": "9be6c318-bcd7-4da6-a1e2-dbecf9df1a5d",
   "metadata": {},
   "outputs": [],
   "source": [
    "#Complex Function\n",
    "f_z = k*n*((((z+k)**n)+((z-k)**n))/(((z+k)**n)-((z-k)**n)))"
   ]
  },
  {
   "cell_type": "code",
   "execution_count": null,
   "id": "2744e4c5-3456-4a76-aca9-c6a47539e073",
   "metadata": {},
   "outputs": [],
   "source": [
    "x1,y1 = real(f_z),imag(f_z)\n",
    "\n",
    "#print(x1,y1)"
   ]
  },
  {
   "cell_type": "code",
   "execution_count": null,
   "id": "20986938-088a-4004-83ff-0b8c234625e7",
   "metadata": {},
   "outputs": [],
   "source": [
    "plot(x,y)\n",
    "axhline(0, c = \"black\")\n",
    "axvline(0, c = \"black\")\n",
    "axhline(b, c = \"green\")\n",
    "axvline(a, c = \"green\")"
   ]
  },
  {
   "cell_type": "code",
   "execution_count": null,
   "id": "8b101a04-37fc-4e49-a497-42e4ce2caaef",
   "metadata": {},
   "outputs": [],
   "source": [
    "plot(x1,y1)\n",
    "axhline(0, c = \"black\")\n",
    "axvline(0, c = \"black\")\n",
    "axhline(b, c = \"green\")\n",
    "axvline(a, c = \"green\")"
   ]
  },
  {
   "cell_type": "code",
   "execution_count": null,
   "id": "666c3161-e997-45fb-a65e-f211b6baca36",
   "metadata": {},
   "outputs": [],
   "source": []
  },
  {
   "cell_type": "code",
   "execution_count": null,
   "id": "ff228314-d8bc-4056-b10d-db238f97a648",
   "metadata": {},
   "outputs": [],
   "source": []
  },
  {
   "cell_type": "code",
   "execution_count": null,
   "id": "a16eaf11-3398-4ee2-be4c-94bf2cc42702",
   "metadata": {},
   "outputs": [],
   "source": []
  }
 ],
 "metadata": {
  "kernelspec": {
   "display_name": "Python 3 (ipykernel)",
   "language": "python",
   "name": "python3"
  },
  "language_info": {
   "codemirror_mode": {
    "name": "ipython",
    "version": 3
   },
   "file_extension": ".py",
   "mimetype": "text/x-python",
   "name": "python",
   "nbconvert_exporter": "python",
   "pygments_lexer": "ipython3",
   "version": "3.13.3"
  }
 },
 "nbformat": 4,
 "nbformat_minor": 5
}
