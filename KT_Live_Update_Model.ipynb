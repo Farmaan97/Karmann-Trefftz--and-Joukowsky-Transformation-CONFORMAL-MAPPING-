{
 "cells": [
  {
   "cell_type": "code",
   "execution_count": 12,
   "id": "f20ab835-dd45-487f-aa6d-008f35fe5b50",
   "metadata": {},
   "outputs": [],
   "source": [
    "from numpy import *\n",
    "from matplotlib.pyplot import*\n",
    "from ipywidgets import*\n",
    "#import ipywidgets as widgets\n",
    "\n",
    "def karmann_trefftz(r=1.5, delta=2.0, k=1.5, a=0.25, b=0.5):\n",
    "   \n",
    "    # Calculate n from delta\n",
    "    n = 2 - delta/pi\n",
    "    \n",
    "    # Generate circle points\n",
    "    theta = linspace(0, 2*pi, 1000)\n",
    "    x = r*cos(theta) + a\n",
    "    y = r*sin(theta) + b\n",
    "    \n",
    "    # Complex transformation\n",
    "    z = x + 1j*y\n",
    "    f_z = k*n*((((z+k)**n)+((z-k)**n))/(((z+k)**n)-((z-k)**n)))\n",
    "    x1, y1 = real(f_z), imag(f_z)\n",
    "    \n",
    "    # Create plot\n",
    "    figure(figsize=(10, 8))\n",
    "    plot(x, y, 'b-', label='Original Circle', linewidth=2)\n",
    "    plot(x1, y1, 'r-', label='Karmann-Trefftz Transform', linewidth=2)\n",
    "    \n",
    "    # Add reference lines\n",
    "    axhline(0, c=\"black\")\n",
    "    axvline(0, c=\"black\")\n",
    "    axhline(b, c=\"green\")\n",
    "    axvline(a, c=\"green\")\n",
    "    \n",
    "    # Formatting\n",
    "    title(f'Karmann-Trefftz Transformation (r={r:.2f}, δ={delta:.2f}, k={k:.2f}, n={n:.3f})')\n",
    "    xlabel('x')\n",
    "    ylabel('y')\n",
    "    show()"
   ]
  },
  {
   "cell_type": "code",
   "execution_count": 13,
   "id": "0aa808dc-89f8-4548-b75e-435b7a346163",
   "metadata": {},
   "outputs": [
    {
     "data": {
      "application/vnd.jupyter.widget-view+json": {
       "model_id": "d43f1d89c4d34bbaa46b280a79654cef",
       "version_major": 2,
       "version_minor": 0
      },
      "text/plain": [
       "interactive(children=(FloatSlider(value=1.5, description='Radius (r):', max=3.0, min=0.1, style=SliderStyle(de…"
      ]
     },
     "metadata": {},
     "output_type": "display_data"
    }
   ],
   "source": [
    "# Create interactive sliders for all parameters\n",
    "interact(karmann_trefftz, \n",
    "         r=FloatSlider(value=1.5, min=0.1, max=3.0, step=0.1, \n",
    "                      description='Radius (r):', style={'description_width': 'initial'}),\n",
    "         delta=FloatSlider(value=2.0, min=0.1, max=6.0, step=0.1,\n",
    "                          description='Delta (δ):', style={'description_width': 'initial'}),\n",
    "         k=FloatSlider(value=1.5, min=0.1, max=5.0, step=0.1,\n",
    "                      description='Constant (k):', style={'description_width': 'initial'}),\n",
    "         a=FloatSlider(value=0.25, min=-2.0, max=2.0, step=0.05,\n",
    "                      description='Origin x (a):', style={'description_width': 'initial'}),\n",
    "         b=FloatSlider(value=0.5, min=-2.0, max=2.0, step=0.05,\n",
    "                      description='Origin y (b):', style={'description_width': 'initial'}));"
   ]
  },
  {
   "cell_type": "code",
   "execution_count": null,
   "id": "3f697ea4-d9bf-4917-9a36-d0bc60fc0a9d",
   "metadata": {},
   "outputs": [],
   "source": []
  }
 ],
 "metadata": {
  "kernelspec": {
   "display_name": "Python 3 (ipykernel)",
   "language": "python",
   "name": "python3"
  },
  "language_info": {
   "codemirror_mode": {
    "name": "ipython",
    "version": 3
   },
   "file_extension": ".py",
   "mimetype": "text/x-python",
   "name": "python",
   "nbconvert_exporter": "python",
   "pygments_lexer": "ipython3",
   "version": "3.13.3"
  }
 },
 "nbformat": 4,
 "nbformat_minor": 5
}
