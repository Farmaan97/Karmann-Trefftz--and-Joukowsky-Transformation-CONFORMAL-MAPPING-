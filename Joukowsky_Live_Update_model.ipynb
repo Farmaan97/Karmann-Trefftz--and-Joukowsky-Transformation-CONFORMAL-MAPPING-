{
 "cells": [
  {
   "cell_type": "code",
   "execution_count": 7,
   "id": "15bae2c0-d4fe-400f-b99f-fbe2d0244e9e",
   "metadata": {},
   "outputs": [],
   "source": [
    "#Joukowsky Live update model\n",
    "from numpy import *\n",
    "from matplotlib.pyplot import*\n",
    "from ipywidgets import*\n",
    "\n",
    "#angle points\n",
    "theta = linspace(0,2*pi,1000)\n",
    "\n",
    "def joukowsky_model(r = 1.5,a = 0.25, b = 0.5):\n",
    "    x = r*cos(theta) + a\n",
    "    y = r*sin(theta) + b\n",
    "\n",
    "    #Complex Equation Definition\n",
    "    z = x + 1j*y\n",
    "    \n",
    "    #Complex Function\n",
    "    f_z = z + 1/z\n",
    "\n",
    "    x1,y1 = real(f_z),imag(f_z)\n",
    "\n",
    "    # Create plot\n",
    "    figure(figsize=(10, 8))\n",
    "    plot(x, y, 'b-', label='Original Circle', linewidth=2)\n",
    "    plot(x1, y1, 'r-', label='Karmann-Trefftz Transform', linewidth=2)\n",
    "    \n",
    "    # Add reference lines\n",
    "    axhline(0, c=\"black\")\n",
    "    axvline(0, c=\"black\")\n",
    "    axhline(b, c=\"green\")\n",
    "    axvline(a, c=\"green\")\n",
    "    \n",
    "    # Formatting\n",
    "    title(f'Joukowsky Transformation (r={r:.2f}, a={a:.1f}, b={b:.1f})')\n",
    "    xlabel('x')\n",
    "    ylabel('y')\n",
    "    show()"
   ]
  },
  {
   "cell_type": "code",
   "execution_count": 8,
   "id": "3c5ac40b-fe48-4a31-bda6-06b048ef3673",
   "metadata": {},
   "outputs": [
    {
     "data": {
      "application/vnd.jupyter.widget-view+json": {
       "model_id": "e707ea2db2ff44a586b9fff0ade53b46",
       "version_major": 2,
       "version_minor": 0
      },
      "text/plain": [
       "interactive(children=(FloatSlider(value=1.5, description='Radius (r):', max=3.0, min=0.1, style=SliderStyle(de…"
      ]
     },
     "metadata": {},
     "output_type": "display_data"
    }
   ],
   "source": [
    "# Create interactive sliders for all parameters\n",
    "interact(joukowsky_model, \n",
    "         r=FloatSlider(value=1.5, min=0.1, max=3.0, step=0.1, \n",
    "                      description='Radius (r):', style={'description_width': 'initial'}),\n",
    "         a=FloatSlider(value=0.25, min=-2.0, max=2.0, step=0.05,\n",
    "                      description='Origin x (a):', style={'description_width': 'initial'}),\n",
    "         b=FloatSlider(value=0.5, min=-2.0, max=2.0, step=0.05,\n",
    "                      description='Origin y (b):', style={'description_width': 'initial'}));"
   ]
  },
  {
   "cell_type": "code",
   "execution_count": null,
   "id": "34030c51-d773-45c2-b349-0b84c7876f74",
   "metadata": {},
   "outputs": [],
   "source": []
  }
 ],
 "metadata": {
  "kernelspec": {
   "display_name": "Python 3 (ipykernel)",
   "language": "python",
   "name": "python3"
  },
  "language_info": {
   "codemirror_mode": {
    "name": "ipython",
    "version": 3
   },
   "file_extension": ".py",
   "mimetype": "text/x-python",
   "name": "python",
   "nbconvert_exporter": "python",
   "pygments_lexer": "ipython3",
   "version": "3.13.3"
  }
 },
 "nbformat": 4,
 "nbformat_minor": 5
}
